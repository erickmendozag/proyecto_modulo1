{
 "cells": [
  {
   "cell_type": "markdown",
   "metadata": {},
   "source": [
    "hr\n"
   ]
  },
  {
   "cell_type": "markdown",
   "metadata": {},
   "source": [
    "http://web.b.ebscohost.com.ezproxy.iteso.mx/ehost/ebookviewer/ebook/bmxlYmtfXzUzMTQwOV9fQU41?sid=a3b61b85-21a5-4eba-a0ba-83467f1df659@pdc-v-sessmgr01&vid=0&format=EK&lpid=navpoint-7&rid=0"
   ]
  },
  {
   "cell_type": "code",
   "execution_count": null,
   "metadata": {},
   "outputs": [],
   "source": []
  }
 ],
 "metadata": {
  "kernelspec": {
   "display_name": "Python 3",
   "language": "python",
   "name": "python3"
  },
  "language_info": {
   "codemirror_mode": {
    "name": "ipython",
    "version": 3
   },
   "file_extension": ".py",
   "mimetype": "text/x-python",
   "name": "python",
   "nbconvert_exporter": "python",
   "pygments_lexer": "ipython3",
   "version": "3.7.1"
  }
 },
 "nbformat": 4,
 "nbformat_minor": 2
}
