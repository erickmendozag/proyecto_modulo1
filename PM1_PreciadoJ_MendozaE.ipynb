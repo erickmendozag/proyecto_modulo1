{
 "cells": [
  {
   "cell_type": "markdown",
   "metadata": {},
   "source": [
    "## Fabricación de alimentos\n",
    "\n",
    "En este proyecto analizaremos la fabricación de alimentos vegetales y no vegetales, en los primeros 6 meses del año, en donde utilizaremos las herramientas GitHub, Jupiter, GitKraken, y PowerPoint, para la realización del mismo."
   ]
  },
  {
   "cell_type": "markdown",
   "metadata": {},
   "source": [
    "http://web.b.ebscohost.com.ezproxy.iteso.mx/ehost/ebookviewer/ebook/bmxlYmtfXzUzMTQwOV9fQU41?sid=a3b61b85-21a5-4eba-a0ba-83467f1df659@pdc-v-sessmgr01&vid=0&format=EK&lpid=navpoint-7&rid=0"
   ]
  },
  {
   "cell_type": "markdown",
   "metadata": {},
   "source": []
  },
  {
   "cell_type": "markdown",
   "metadata": {},
   "source": []
  },
  {
   "cell_type": "markdown",
   "metadata": {},
   "source": []
  }
 ],
 "metadata": {
  "kernelspec": {
   "display_name": "Python 3",
   "language": "python",
   "name": "python3"
  },
  "language_info": {
   "codemirror_mode": {
    "name": "ipython",
    "version": 3
   },
   "file_extension": ".py",
   "mimetype": "text/x-python",
   "name": "python",
   "nbconvert_exporter": "python",
   "pygments_lexer": "ipython3",
   "version": "3.7.1"
  }
 },
 "nbformat": 4,
 "nbformat_minor": 2
}
