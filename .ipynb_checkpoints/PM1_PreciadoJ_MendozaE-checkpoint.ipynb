{
 "cells": [
  {
   "cell_type": "markdown",
   "metadata": {},
   "source": [
    "## Fabricación de alimentos\n",
    "\n",
    "En este proyecto analizaremos la fabricación de alimentos vegetales y no vegetales, en los primeros 6 meses del año, en donde utilizaremos las herramientas GitHub, Jupiter, GitKraken, y PowerPoint, para la realización del mismo."
   ]
  },
  {
   "cell_type": "markdown",
   "metadata": {},
   "source": [
    "http://web.b.ebscohost.com.ezproxy.iteso.mx/ehost/ebookviewer/ebook/bmxlYmtfXzUzMTQwOV9fQU41?sid=a3b61b85-21a5-4eba-a0ba-83467f1df659@pdc-v-sessmgr01&vid=0&format=EK&lpid=navpoint-7&rid=0"
   ]
  },
  {
   "cell_type": "markdown",
   "metadata": {},
   "source": [
    "### Objetivos\n",
    "\n",
    "+ General:\n",
    "Analizar los datos de fabricación\n",
    "Realizar estadísticos sobre los datos generados\n",
    "\n",
    "+ Específicos:\n",
    "Definir variables\n",
    "Maximizar la producción de las dos variables (alimentos vegetales, y no vegetales)\n",
    "Realizar una gáfica comparando las dos variables\n"
   ]
  },
  {
   "cell_type": "markdown",
   "metadata": {},
   "source": [
    "### Modelo\n",
    "\n",
    "+ Variables:\n",
    "VEG1 = x1\n",
    "VEG2 = x2\n",
    "OIL1 = x3\n",
    "OIL2 = x4\n",
    "OIL3 = x5\n",
    "\n",
    "VEG = Aceites Vetales\n",
    "OIL = Aceites No Vegetales\n",
    "\n",
    "+ Función a optimizar:\n",
    "\n",
    "max: 110x1 + 120x2 + 130x3 + 110x4 + 115x5\n",
    "\n",
    "Aceites Vegetales y Aceites No Vegetales requieren diferentes líneas de producción para refinarse. En cualquier mes no es posible refinar más de 200 toneladas de Aceites Vegetales y más de 250 toneladas de Aceites No Vegetales. Hay una restricción tecnológica de su dureza, su valor deberá encontrarse entr 3 y 6. Al final debemos asegurarnos que el peso del producto final sea igual al produtos de los ingredientes\n",
    "\n",
    "+ Restricciones:\n",
    "\n",
    "- $x1 + x2 \\leq 200$\n",
    "\n",
    "- $x3 + x4 + x5 \\leq 250$\n",
    "\n",
    "- $8.8x1 + 6.1x2 + 2x3 + 4.2x4 + 5x5 \\leq 6$\n",
    "\n",
    "- $8.8x1 + 6.1x2 + 2x3 + 4.2x4 + 5x5 \\geq 3$\n",
    "\n",
    "- $x1 + x2 + x3 + x4 +x5 = 1$\n",
    "\n"
   ]
  },
  {
   "cell_type": "code",
   "execution_count": 4,
   "metadata": {},
   "outputs": [],
   "source": [
    "import numpy as np\n",
    "import scipy.optimize as opt\n",
    "import matplotlib.pyplot as plt\n",
    "%matplotlib inline"
   ]
  },
  {
   "cell_type": "code",
   "execution_count": 10,
   "metadata": {},
   "outputs": [],
   "source": [
    "c = -np.array([100,120,130,110,115])\n",
    "A_ub = np.array([[1,1,0,0,0],[0,0,1,1,1],[8.8,6.1,2,4.2,5],[-8.8,-6.1,-2,-4.2,-5]])\n",
    "b_ub = np.array([200,250,6,-3,])\n",
    "A_eq = np.array([[1,1,1,1,1]])\n",
    "b_eq = np.array([1])\n"
   ]
  },
  {
   "cell_type": "code",
   "execution_count": 11,
   "metadata": {},
   "outputs": [
    {
     "data": {
      "text/plain": [
       "     fun: -127.5609756097561\n",
       " message: 'Optimization terminated successfully.'\n",
       "     nit: 3\n",
       "   slack: array([199.75609756, 249.24390244,   3.        ,   0.        ])\n",
       "  status: 0\n",
       " success: True\n",
       "       x: array([0.        , 0.24390244, 0.75609756, 0.        , 0.        ])"
      ]
     },
     "execution_count": 11,
     "metadata": {},
     "output_type": "execute_result"
    }
   ],
   "source": [
    "solucion = opt.linprog(c,A_ub,b_ub,A_eq,b_eq)\n",
    "solucion"
   ]
  },
  {
   "cell_type": "code",
   "execution_count": null,
   "metadata": {},
   "outputs": [],
   "source": []
  }
 ],
 "metadata": {
  "kernelspec": {
   "display_name": "Python 3",
   "language": "python",
   "name": "python3"
  },
  "language_info": {
   "codemirror_mode": {
    "name": "ipython",
    "version": 3
   },
   "file_extension": ".py",
   "mimetype": "text/x-python",
   "name": "python",
   "nbconvert_exporter": "python",
   "pygments_lexer": "ipython3",
   "version": "3.7.1"
  }
 },
 "nbformat": 4,
 "nbformat_minor": 2
}
